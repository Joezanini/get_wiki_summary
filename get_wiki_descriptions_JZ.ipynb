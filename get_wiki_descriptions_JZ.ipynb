{
 "cells": [
  {
   "cell_type": "code",
   "execution_count": 1,
   "id": "39ad4e3a",
   "metadata": {},
   "outputs": [],
   "source": [
    "# Basic packages\n",
    "import pandas as pd\n",
    "import numpy as np\n",
    "import seaborn as sb\n",
    "import seaborn as sns\n",
    "import matplotlib.pyplot as plt\n",
    "%matplotlib inline\n",
    "\n",
    "# For API calling\n",
    "import requests\n",
    "import json\n",
    "\n",
    "# For data\n",
    "from pathlib import Path\n",
    "# Enter path to data here\n",
    "DataPath = Path(\"/Users/joezanini/Downloads/Mothership Data Sources210215 - 2000_norcal_hoods.csv\")\n",
    "\n",
    "# Pandas options for display values\n",
    "pd.options.display.max_rows = 7\n",
    "pd.set_option(\"display.max_columns\", 50)\n",
    "pd.options.display.float_format = '{:,.2f}'.format\n",
    "pd.options.mode.chained_assignment = None  # default='warn'\n",
    "\n",
    "# access AWS\n",
    "from sqlalchemy import create_engine\n"
   ]
  },
  {
   "cell_type": "markdown",
   "id": "df83a9cb",
   "metadata": {},
   "source": [
    "Create subset for development purpose"
   ]
  },
  {
   "cell_type": "code",
   "execution_count": 2,
   "id": "028f3c74",
   "metadata": {},
   "outputs": [
    {
     "data": {
      "text/plain": [
       "(716, 3)"
      ]
     },
     "execution_count": 2,
     "metadata": {},
     "output_type": "execute_result"
    }
   ],
   "source": [
    "df = pd.read_csv(DataPath)\n",
    "#change name from 'Joe' to 'your name'\n",
    "df1 = df[df['Assigned to']=='Joe'][['name','County']]\n",
    "df1['query'] = df1[['name', 'County']].apply(lambda x: ', '.join(x), axis=1)\n",
    "df1.shape"
   ]
  },
  {
   "cell_type": "code",
   "execution_count": 3,
   "id": "5444b207",
   "metadata": {},
   "outputs": [
    {
     "data": {
      "text/html": [
       "<div>\n",
       "<style scoped>\n",
       "    .dataframe tbody tr th:only-of-type {\n",
       "        vertical-align: middle;\n",
       "    }\n",
       "\n",
       "    .dataframe tbody tr th {\n",
       "        vertical-align: top;\n",
       "    }\n",
       "\n",
       "    .dataframe thead th {\n",
       "        text-align: right;\n",
       "    }\n",
       "</style>\n",
       "<table border=\"1\" class=\"dataframe\">\n",
       "  <thead>\n",
       "    <tr style=\"text-align: right;\">\n",
       "      <th></th>\n",
       "      <th>name</th>\n",
       "      <th>County</th>\n",
       "      <th>query</th>\n",
       "    </tr>\n",
       "  </thead>\n",
       "  <tbody>\n",
       "    <tr>\n",
       "      <th>1284</th>\n",
       "      <td>Adobe Meadow / Meadow Park</td>\n",
       "      <td>Santa Clara</td>\n",
       "      <td>Adobe Meadow / Meadow Park, Santa Clara</td>\n",
       "    </tr>\n",
       "    <tr>\n",
       "      <th>1285</th>\n",
       "      <td>Albanese</td>\n",
       "      <td>Santa Clara</td>\n",
       "      <td>Albanese, Santa Clara</td>\n",
       "    </tr>\n",
       "    <tr>\n",
       "      <th>1286</th>\n",
       "      <td>Alberstone / Beck</td>\n",
       "      <td>Santa Clara</td>\n",
       "      <td>Alberstone / Beck, Santa Clara</td>\n",
       "    </tr>\n",
       "    <tr>\n",
       "      <th>1287</th>\n",
       "      <td>Alderbrook</td>\n",
       "      <td>Santa Clara</td>\n",
       "      <td>Alderbrook, Santa Clara</td>\n",
       "    </tr>\n",
       "    <tr>\n",
       "      <th>1288</th>\n",
       "      <td>Alexander</td>\n",
       "      <td>Santa Clara</td>\n",
       "      <td>Alexander, Santa Clara</td>\n",
       "    </tr>\n",
       "  </tbody>\n",
       "</table>\n",
       "</div>"
      ],
      "text/plain": [
       "                            name       County  \\\n",
       "1284  Adobe Meadow / Meadow Park  Santa Clara   \n",
       "1285                    Albanese  Santa Clara   \n",
       "1286           Alberstone / Beck  Santa Clara   \n",
       "1287                  Alderbrook  Santa Clara   \n",
       "1288                   Alexander  Santa Clara   \n",
       "\n",
       "                                        query  \n",
       "1284  Adobe Meadow / Meadow Park, Santa Clara  \n",
       "1285                    Albanese, Santa Clara  \n",
       "1286           Alberstone / Beck, Santa Clara  \n",
       "1287                  Alderbrook, Santa Clara  \n",
       "1288                   Alexander, Santa Clara  "
      ]
     },
     "execution_count": 3,
     "metadata": {},
     "output_type": "execute_result"
    }
   ],
   "source": [
    "pd.options.display.max_rows = 20\n",
    "df1.head(5)"
   ]
  },
  {
   "cell_type": "markdown",
   "id": "223e3ccf",
   "metadata": {},
   "source": [
    "Wikipedia package"
   ]
  },
  {
   "cell_type": "code",
   "execution_count": 4,
   "id": "a9dcea3f",
   "metadata": {},
   "outputs": [],
   "source": [
    "import wikipedia\n",
    "\n",
    "def city_desc(CITY_STATE,SENTENCES=3):\n",
    "    try:\n",
    "        desc = wikipedia.summary(title=CITY_STATE, sentences=SENTENCES)  \n",
    "    except wikipedia.exceptions.DisambiguationError as e:\n",
    "        #print('b')\n",
    "        desc = ''\n",
    "    except wikipedia.exceptions.PageError as e:\n",
    "        #print('b')\n",
    "        desc = ''\n",
    "        \n",
    "    return desc\n"
   ]
  },
  {
   "cell_type": "code",
   "execution_count": 5,
   "id": "e2a023f0",
   "metadata": {
    "scrolled": true
   },
   "outputs": [
    {
     "name": "stderr",
     "output_type": "stream",
     "text": [
      "<ipython-input-5-32ffa9183ee5>:2: TqdmDeprecationWarning: This function will be removed in tqdm==5.0.0\n",
      "Please use `tqdm.notebook.tqdm` instead of `tqdm.tqdm_notebook`\n",
      "  tqdm().pandas()\n"
     ]
    },
    {
     "data": {
      "application/vnd.jupyter.widget-view+json": {
       "model_id": "9f665a8c9358450d8940078e87c9353e",
       "version_major": 2,
       "version_minor": 0
      },
      "text/plain": [
       "0it [00:00, ?it/s]"
      ]
     },
     "metadata": {},
     "output_type": "display_data"
    },
    {
     "data": {
      "application/vnd.jupyter.widget-view+json": {
       "model_id": "776ac826f2c040708ebd0038d03cb72d",
       "version_major": 2,
       "version_minor": 0
      },
      "text/plain": [
       "  0%|          | 0/716 [00:00<?, ?it/s]"
      ]
     },
     "metadata": {},
     "output_type": "display_data"
    },
    {
     "name": "stderr",
     "output_type": "stream",
     "text": [
      "/Users/joezanini/opt/anaconda3/lib/python3.8/site-packages/wikipedia/wikipedia.py:389: GuessedAtParserWarning: No parser was explicitly specified, so I'm using the best available HTML parser for this system (\"lxml\"). This usually isn't a problem, but if you run this code on another system, or in a different virtual environment, it may use a different parser and behave differently.\n",
      "\n",
      "The code that caused this warning is on line 389 of the file /Users/joezanini/opt/anaconda3/lib/python3.8/site-packages/wikipedia/wikipedia.py. To get rid of this warning, pass the additional argument 'features=\"lxml\"' to the BeautifulSoup constructor.\n",
      "\n",
      "  lis = BeautifulSoup(html).find_all('li')\n"
     ]
    }
   ],
   "source": [
    "from tqdm import tqdm_notebook as tqdm\n",
    "tqdm().pandas()\n",
    "#type(df1['name'])\n",
    "df1['city_quick_facts'] = df1.progress_apply(lambda row : city_desc(row['query']),axis=1)"
   ]
  },
  {
   "cell_type": "code",
   "execution_count": 6,
   "id": "c1179229",
   "metadata": {},
   "outputs": [],
   "source": [
    "df1.to_csv('n_desc1.csv', encoding='utf-8')"
   ]
  }
 ],
 "metadata": {
  "kernelspec": {
   "display_name": "Python 3",
   "language": "python",
   "name": "python3"
  },
  "language_info": {
   "codemirror_mode": {
    "name": "ipython",
    "version": 3
   },
   "file_extension": ".py",
   "mimetype": "text/x-python",
   "name": "python",
   "nbconvert_exporter": "python",
   "pygments_lexer": "ipython3",
   "version": "3.8.8"
  }
 },
 "nbformat": 4,
 "nbformat_minor": 5
}
